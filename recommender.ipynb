{
 "cells": [
  {
   "cell_type": "code",
   "execution_count": 50,
   "metadata": {},
   "outputs": [
    {
     "name": "stdout",
     "output_type": "stream",
     "text": [
      "<class 'pandas.core.frame.DataFrame'>\n",
      "Int64Index: 2991 entries, 0 to 2990\n",
      "Data columns (total 23 columns):\n",
      " #   Column                Non-Null Count  Dtype  \n",
      "---  ------                --------------  -----  \n",
      " 0   budget                2991 non-null   int64  \n",
      " 1   genres                2991 non-null   object \n",
      " 2   homepage              1174 non-null   object \n",
      " 3   id                    2991 non-null   int64  \n",
      " 4   keywords              2991 non-null   object \n",
      " 5   original_language     2991 non-null   object \n",
      " 6   original_title        2991 non-null   object \n",
      " 7   overview              2990 non-null   object \n",
      " 8   popularity            2991 non-null   float64\n",
      " 9   production_companies  2991 non-null   object \n",
      " 10  production_countries  2991 non-null   object \n",
      " 11  release_date          2991 non-null   object \n",
      " 12  revenue               2991 non-null   int64  \n",
      " 13  runtime               2990 non-null   float64\n",
      " 14  spoken_languages      2991 non-null   object \n",
      " 15  status                2991 non-null   object \n",
      " 16  tagline               2704 non-null   object \n",
      " 17  title                 2991 non-null   object \n",
      " 18  vote_average          2991 non-null   float64\n",
      " 19  vote_count            2991 non-null   int64  \n",
      " 20  tittle                2991 non-null   object \n",
      " 21  cast                  2991 non-null   object \n",
      " 22  crew                  2991 non-null   object \n",
      "dtypes: float64(3), int64(4), object(16)\n",
      "memory usage: 560.8+ KB\n"
     ]
    }
   ],
   "source": [
    "import pandas as pd\n",
    "import numpy as np\n",
    "movies = pd.read_csv('tmdb_3000_movies.csv')\n",
    "mov=pd.read_csv('tmdb_3000_movies.csv')\n",
    "df = pd.read_csv('tmdb_3000_credits.csv')\n",
    "df.columns = ['id', 'tittle', 'cast', 'crew']\n",
    "j=mov[['original_title']]\n",
    "movies = movies.merge(df, on='id')\n",
    "movies.info()\n"
   ]
  },
  {
   "cell_type": "code",
   "execution_count": 51,
   "metadata": {},
   "outputs": [
    {
     "data": {
      "text/plain": [
       "(2991, 16077)"
      ]
     },
     "execution_count": 51,
     "metadata": {},
     "output_type": "execute_result"
    }
   ],
   "source": [
    "from sklearn.feature_extraction.text import TfidfVectorizer\n",
    "# removing english stop word like a, and , the \n",
    "tfidf = TfidfVectorizer(analyzer = 'word',stop_words = 'english')\n",
    "#NaN -> ‘’\n",
    "movies['overview'] = movies['overview'].fillna('')\n",
    "tfidf_matrix = tfidf.fit_transform(movies['overview'])\n",
    "tfidf_matrix.shape"
   ]
  },
  {
   "cell_type": "code",
   "execution_count": 52,
   "metadata": {},
   "outputs": [],
   "source": [
    "from sklearn.metrics.pairwise import linear_kernel\n",
    "cosin_sim = linear_kernel(tfidf_matrix, tfidf_matrix)"
   ]
  },
  {
   "cell_type": "code",
   "execution_count": 53,
   "metadata": {},
   "outputs": [],
   "source": [
    "index_of_movies = pd.Series(movies.index,index=movies['title']).drop_duplicates()"
   ]
  },
  {
   "cell_type": "code",
   "execution_count": 54,
   "metadata": {},
   "outputs": [],
   "source": [
    "def get_recommendations(title, cosin_sim=cosin_sim):\n",
    "    idx = index_of_movies[title]\n",
    "    \n",
    "    sim_scores = list(enumerate(cosin_sim[idx]))\n",
    "    # sorting of moviesidx based on similarity score\n",
    "    sim_scores = sorted(sim_scores, key = lambda x:x[1], reverse = True)\n",
    "    # get top 10 of sorted \n",
    "    sim_scores = sim_scores[1:31]\n",
    "    \n",
    "    movies_idx = [i[0] for i in sim_scores]\n",
    "    \n",
    "    return movies['title'].iloc[movies_idx]"
   ]
  },
  {
   "cell_type": "code",
   "execution_count": 55,
   "metadata": {},
   "outputs": [],
   "source": [
    "from ast import literal_eval\n",
    "features = ['cast', 'crew', 'keywords', 'genres']\n",
    "for f in features:\n",
    "    movies[f] = movies[f].apply(literal_eval)\n",
    "# to get director from job\n",
    "def get_director(x):\n",
    "    for i in x:\n",
    "        if i['job'] == 'Director':\n",
    "            return i['name']\n",
    "    return np.nan\n",
    "# get top 3 elements of list\n",
    "def get_list(x):\n",
    "    if isinstance(x, list):\n",
    "        names = [ i['name'] for i in x]\n",
    "        \n",
    "        if len(names)  > 3:\n",
    "            names = names[:3]\n",
    "        return names\n",
    "    return []\n",
    "#apply all functions\n",
    "movies['director'] = movies['crew'].apply(get_director)\n",
    "features = ['cast', 'keywords', 'genres']\n",
    "for f in features:\n",
    "    movies[f] = movies[f].apply(get_list)\n",
    "#striping\n",
    "def clean_data(x):\n",
    "    if isinstance(x, list):\n",
    "        return [str.lower(i.replace(' ', '')) for i in x]\n",
    "    else:\n",
    "        if isinstance(x, str):\n",
    "            return str.lower(x.replace(' ', ''))\n",
    "        else:\n",
    "            return ''\n",
    "features = ['cast', 'keywords', 'director', 'genres']\n",
    "for f in features:\n",
    "    movies[f] = movies[f].apply(clean_data)\n",
    "#creating a SOUP\n",
    "def create_soup(x):\n",
    "    return ' '.join(x['keywords'])+' '+' '.join(x['cast'])+' '+x['director']+' '+' '.join(x['genres'])\n",
    "movies['soup'] = movies.apply(create_soup, axis=1)\n",
    "#count Vectorizer\n",
    "from sklearn.feature_extraction.text import CountVectorizer\n",
    "count = CountVectorizer(stop_words = 'english')\n",
    "count_matrix = count.fit_transform(movies['soup'])\n",
    "# finding similarity matrix\n",
    "from sklearn.metrics.pairwise import cosine_similarity\n",
    "cosin_sim2 = cosine_similarity(count_matrix, count_matrix)"
   ]
  },
  {
   "cell_type": "code",
   "execution_count": 56,
   "metadata": {},
   "outputs": [],
   "source": [
    "from surprise import Reader, Dataset, SVD\n",
    "from surprise.model_selection import cross_validate\n",
    "reader = Reader()\n",
    "ratings = pd.read_csv('ratings_small.csv')"
   ]
  },
  {
   "cell_type": "code",
   "execution_count": 57,
   "metadata": {},
   "outputs": [
    {
     "name": "stdout",
     "output_type": "stream",
     "text": [
      "Evaluating RMSE of algorithm SVD on 5 split(s).\n",
      "\n",
      "                  Fold 1  Fold 2  Fold 3  Fold 4  Fold 5  Mean    Std     \n",
      "RMSE (testset)    0.8973  0.9018  0.8895  0.9023  0.8946  0.8971  0.0047  \n",
      "Fit time          4.60    4.59    4.44    4.48    4.45    4.51    0.07    \n",
      "Test time         0.30    0.32    0.23    0.33    0.24    0.29    0.04    \n"
     ]
    },
    {
     "data": {
      "text/plain": [
       "{'test_rmse': array([0.89727705, 0.90178474, 0.88953493, 0.90229621, 0.89459222]),\n",
       " 'fit_time': (4.59644627571106,\n",
       "  4.5948486328125,\n",
       "  4.443248271942139,\n",
       "  4.479581356048584,\n",
       "  4.453047037124634),\n",
       " 'test_time': (0.3025524616241455,\n",
       "  0.322676420211792,\n",
       "  0.2320690155029297,\n",
       "  0.32884716987609863,\n",
       "  0.2429208755493164)}"
      ]
     },
     "execution_count": 57,
     "metadata": {},
     "output_type": "execute_result"
    }
   ],
   "source": [
    "data=Dataset.load_from_df(ratings[['userId','movieId','rating']],reader)\n",
    "svd=SVD()\n",
    "cross_validate(svd,data,measures=['RMSE'],cv=5,verbose=True)"
   ]
  },
  {
   "cell_type": "code",
   "execution_count": 58,
   "metadata": {},
   "outputs": [
    {
     "data": {
      "text/plain": [
       "<surprise.prediction_algorithms.matrix_factorization.SVD at 0x28178fccc70>"
      ]
     },
     "execution_count": 58,
     "metadata": {},
     "output_type": "execute_result"
    }
   ],
   "source": [
    "train = data.build_full_trainset()\n",
    "svd.fit(train)"
   ]
  },
  {
   "cell_type": "code",
   "execution_count": 59,
   "metadata": {},
   "outputs": [
    {
     "data": {
      "text/plain": [
       "Prediction(uid=1, iid=302, r_ui=None, est=2.7792921722964596, details={'was_impossible': False})"
      ]
     },
     "execution_count": 59,
     "metadata": {},
     "output_type": "execute_result"
    }
   ],
   "source": [
    "svd.predict(1, 302)"
   ]
  },
  {
   "cell_type": "code",
   "execution_count": 60,
   "metadata": {},
   "outputs": [
    {
     "name": "stdout",
     "output_type": "stream",
     "text": [
      "(2970, 2)\n"
     ]
    }
   ],
   "source": [
    "movie_id = pd.read_csv('links.csv')[['movieId', 'tmdbId']]\n",
    "movie_id.columns = ['movieId','id']\n",
    "movie_id = movie_id.merge(movies[['title', 'id']], on='id').set_index('title')\n",
    "print(movie_id.shape)"
   ]
  },
  {
   "cell_type": "code",
   "execution_count": 61,
   "metadata": {},
   "outputs": [],
   "source": [
    "index_map = movie_id.set_index('id')"
   ]
  },
  {
   "cell_type": "code",
   "execution_count": 62,
   "metadata": {},
   "outputs": [],
   "source": [
    "def recommend_for(userId,title):\n",
    "    index = index_of_movies[title]\n",
    "    tmdbId = movie_id.loc[title]['id']\n",
    "    \n",
    "\n",
    "    #content based\n",
    "    sim_scores = list(enumerate(cosin_sim2[int(index)]))\n",
    "    sim_scores = sorted(sim_scores, key=lambda x: x[1], reverse=True)\n",
    "    sim_scores = sim_scores[1:30]\n",
    "    movie_indices = [i[0] for i in sim_scores]\n",
    "\n",
    "    mv = movies.iloc[movie_indices][['title', 'vote_count', 'vote_average', 'id']]\n",
    "    mv = mv[mv['id'].isin(movie_id['id'])]\n",
    "    # CF\n",
    "    mv['est'] = mv['id'].apply(lambda x: svd.predict(userId, index_map.loc[x]['movieId']).est)\n",
    "    k=mv.head(6)\n",
    "    l=k.index.tolist()\n",
    "    print(l)\n",
    "    return mv.head(5)"
   ]
  },
  {
   "cell_type": "code",
   "execution_count": 67,
   "metadata": {},
   "outputs": [
    {
     "name": "stdout",
     "output_type": "stream",
     "text": [
      "Avatar\n",
      "[206, 71, 103, 131, 215, 466]\n",
      "                                      title  vote_count  vote_average     id  \\\n",
      "206                     Clash of the Titans        2233           5.6  18823   \n",
      "71    The Mummy: Tomb of the Dragon Emperor        1387           5.2   1735   \n",
      "103               The Sorcerer's Apprentice        1470           5.8  27022   \n",
      "131                                 G-Force         510           5.1  19585   \n",
      "215  Fantastic 4: Rise of the Silver Surfer        2589           5.4   1979   \n",
      "\n",
      "          est  \n",
      "206  3.255556  \n",
      "71   3.410865  \n",
      "103  3.668233  \n",
      "131  3.409176  \n",
      "215  3.003754  \n"
     ]
    }
   ],
   "source": [
    "u=input(\"Enter User ID : \")\n",
    "n=input(\"Enter Movie Name : \")\n",
    "n=n.capitalize()\n",
    "print(n)\n",
    "genre=[\"Fantasy\",\"Action\",\"Adventure\",\"Science Fiction\",\"Crime\",\"Drama\",\"Thriller\",\"Animation\",\"Family\",\"Western\",\"Romance\",\"Comedy\",\"Horror\",\"Mystery\",\"War\",\"History\",\"Music\",]\n",
    "if n in genre:\n",
    "    v=mov[\"genres\"]\n",
    "    cou=2\n",
    "    p=[]\n",
    "    for i in v:\n",
    "        i=str(i)\n",
    "        if n in i:\n",
    "            p.append(cou)\n",
    "        if len(p)==5:\n",
    "            break\n",
    "        cou+=1\n",
    "    print(p)\n",
    "else:\n",
    "    m=j[j['original_title'].str.contains(n)]\n",
    "    m=m[\"original_title\"].values[0]\n",
    "    print(recommend_for(u,m))\n"
   ]
  }
 ],
 "metadata": {
  "kernelspec": {
   "display_name": "base",
   "language": "python",
   "name": "python3"
  },
  "language_info": {
   "codemirror_mode": {
    "name": "ipython",
    "version": 3
   },
   "file_extension": ".py",
   "mimetype": "text/x-python",
   "name": "python",
   "nbconvert_exporter": "python",
   "pygments_lexer": "ipython3",
   "version": "3.9.7"
  },
  "orig_nbformat": 4,
  "vscode": {
   "interpreter": {
    "hash": "6b62e7ab15b0c1886443ffad370d046f3380dcc25847c572f0c5955aee457b17"
   }
  }
 },
 "nbformat": 4,
 "nbformat_minor": 2
}
